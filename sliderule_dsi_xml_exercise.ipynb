{
 "cells": [
  {
   "cell_type": "markdown",
   "metadata": {},
   "source": [
    "# XML example and exercise\n",
    "****\n",
    "+ study examples of accessing nodes in XML tree structure  \n",
    "+ work on exercise to be completed and submitted\n",
    "****\n",
    "+ reference: https://docs.python.org/2.7/library/xml.etree.elementtree.html\n",
    "+ data source: http://www.dbis.informatik.uni-goettingen.de/Mondial\n",
    "****"
   ]
  },
  {
   "cell_type": "code",
   "execution_count": null,
   "metadata": {
    "collapsed": true
   },
   "outputs": [],
   "source": []
  },
  {
   "cell_type": "code",
   "execution_count": 24,
   "metadata": {
    "collapsed": true
   },
   "outputs": [],
   "source": [
    "from xml.etree import ElementTree as ET"
   ]
  },
  {
   "cell_type": "markdown",
   "metadata": {},
   "source": [
    "\n",
    "## XML example\n",
    "\n",
    "+ for details about tree traversal and iterators, see https://docs.python.org/2.7/library/xml.etree.elementtree.html"
   ]
  },
  {
   "cell_type": "code",
   "execution_count": null,
   "metadata": {
    "collapsed": true
   },
   "outputs": [],
   "source": []
  },
  {
   "cell_type": "code",
   "execution_count": null,
   "metadata": {
    "collapsed": true
   },
   "outputs": [],
   "source": []
  },
  {
   "cell_type": "code",
   "execution_count": null,
   "metadata": {
    "collapsed": true
   },
   "outputs": [],
   "source": []
  },
  {
   "cell_type": "code",
   "execution_count": 3,
   "metadata": {
    "collapsed": true
   },
   "outputs": [],
   "source": [
    "document_tree = ET.parse( './data/mondial_database_less.xml' )"
   ]
  },
  {
   "cell_type": "code",
   "execution_count": 4,
   "metadata": {
    "collapsed": false
   },
   "outputs": [
    {
     "name": "stdout",
     "output_type": "stream",
     "text": [
      "Albania\n",
      "Greece\n",
      "Macedonia\n",
      "Serbia\n",
      "Montenegro\n",
      "Kosovo\n",
      "Andorra\n"
     ]
    }
   ],
   "source": [
    "# print names of all countries\n",
    "for child in document_tree.getroot():\n",
    "    print child.find('name').text"
   ]
  },
  {
   "cell_type": "code",
   "execution_count": 5,
   "metadata": {
    "collapsed": false
   },
   "outputs": [
    {
     "name": "stdout",
     "output_type": "stream",
     "text": [
      "* Albania: Tirana, Shkodër, Durrës, Vlorë, Elbasan, Korçë\n",
      "* Greece: Komotini, Kavala, Athina, Peiraias, Peristeri, Acharnes, Patra, Kozani, Kerkyra, Ioannina, Thessaloniki, Iraklio, Chania, Ermoupoli, Rhodes, Tripoli, Lamia, Chalkida, Larissa, Volos, Mytilini, Karyes\n",
      "* Macedonia: Skopje, Kumanovo\n",
      "* Serbia: Beograd, Novi Sad, Niš\n",
      "* Montenegro: Podgorica\n",
      "* Kosovo: Prishtine\n",
      "* Andorra: Andorra la Vella\n"
     ]
    }
   ],
   "source": [
    "# print names of all countries and their cities\n",
    "for element in document_tree.iterfind('country'):\n",
    "    print '* ' + element.find('name').text + ':',\n",
    "    capitals_string = ''\n",
    "    for subelement in element.getiterator('city'):\n",
    "        capitals_string += subelement.find('name').text + ', '\n",
    "    print capitals_string[:-2]"
   ]
  },
  {
   "cell_type": "markdown",
   "metadata": {},
   "source": [
    "****\n",
    "## XML exercise\n",
    "\n",
    "Using data in 'data/mondial_database.xml', the examples above, and refering to https://docs.python.org/2.7/library/xml.etree.elementtree.html, find\n",
    "\n",
    "1. 10 countries with the lowest infant mortality rates\n",
    "2. 10 cities with the largest population\n",
    "3. 10 ethnic groups with the largest overall populations (sum of best/latest estimates over all countries)\n",
    "4. name and country of a) longest river, b) largest lake and c) airport at highest elevation"
   ]
  },
  {
   "cell_type": "code",
   "execution_count": 3,
   "metadata": {
    "collapsed": false
   },
   "outputs": [],
   "source": [
    "document = ET.parse(\"/Users/shashank/Desktop/SpringboardDatascience/data_wrangling_xml/data/mondial_database.xml\")"
   ]
  },
  {
   "cell_type": "code",
   "execution_count": 45,
   "metadata": {
    "collapsed": false
   },
   "outputs": [
    {
     "data": {
      "text/plain": [
       "<Element 'mondial' at 0x104ec8908>"
      ]
     },
     "execution_count": 45,
     "metadata": {},
     "output_type": "execute_result"
    }
   ],
   "source": [
    "root=document.getroot()\n",
    "root"
   ]
  },
  {
   "cell_type": "code",
   "execution_count": 65,
   "metadata": {
    "collapsed": false
   },
   "outputs": [],
   "source": [
    "#Q1. 10 countries with the lowest infant mortality rates\n",
    "#create a dictionary that will be used\n",
    "\n",
    "data = {'country':[], 'infant_mortality':[]}\n",
    "   \n",
    "    \n",
    "                       "
   ]
  },
  {
   "cell_type": "code",
   "execution_count": 72,
   "metadata": {
    "collapsed": false
   },
   "outputs": [],
   "source": [
    " #get the name and infant mortality of all countries\n",
    "for element in document.iterfind('country'):\n",
    "    data['country'].append(element.find('name').text)\n",
    "    mortality = element.find('infant_mortality')\n",
    "    if mortality is not None:\n",
    "        data['infant_mortality'].append(mortality.text)\n",
    "    else:\n",
    "        data['infant_mortality'].append('')"
   ]
  },
  {
   "cell_type": "code",
   "execution_count": 73,
   "metadata": {
    "collapsed": true
   },
   "outputs": [],
   "source": [
    "\n",
    "import pandas as pd\n",
    "import numpy as np"
   ]
  },
  {
   "cell_type": "code",
   "execution_count": 74,
   "metadata": {
    "collapsed": false
   },
   "outputs": [
    {
     "name": "stderr",
     "output_type": "stream",
     "text": [
      "//anaconda/lib/python3.5/site-packages/ipykernel/__main__.py:8: FutureWarning: sort(columns=....) is deprecated, use sort_values(by=.....)\n"
     ]
    },
    {
     "data": {
      "text/html": [
       "<div>\n",
       "<table border=\"1\" class=\"dataframe\">\n",
       "  <thead>\n",
       "    <tr style=\"text-align: right;\">\n",
       "      <th></th>\n",
       "      <th>country</th>\n",
       "      <th>infant_mortality</th>\n",
       "    </tr>\n",
       "  </thead>\n",
       "  <tbody>\n",
       "    <tr>\n",
       "      <th>38</th>\n",
       "      <td>Monaco</td>\n",
       "      <td>1.81</td>\n",
       "    </tr>\n",
       "    <tr>\n",
       "      <th>30</th>\n",
       "      <td>Romania</td>\n",
       "      <td>10.16</td>\n",
       "    </tr>\n",
       "    <tr>\n",
       "      <th>153</th>\n",
       "      <td>Fiji</td>\n",
       "      <td>10.2</td>\n",
       "    </tr>\n",
       "    <tr>\n",
       "      <th>69</th>\n",
       "      <td>Brunei</td>\n",
       "      <td>10.48</td>\n",
       "    </tr>\n",
       "    <tr>\n",
       "      <th>132</th>\n",
       "      <td>Grenada</td>\n",
       "      <td>10.5</td>\n",
       "    </tr>\n",
       "    <tr>\n",
       "      <th>237</th>\n",
       "      <td>Mauritius</td>\n",
       "      <td>10.59</td>\n",
       "    </tr>\n",
       "    <tr>\n",
       "      <th>124</th>\n",
       "      <td>Panama</td>\n",
       "      <td>10.7</td>\n",
       "    </tr>\n",
       "    <tr>\n",
       "      <th>243</th>\n",
       "      <td>Seychelles</td>\n",
       "      <td>10.77</td>\n",
       "    </tr>\n",
       "    <tr>\n",
       "      <th>102</th>\n",
       "      <td>United Arab Emirates</td>\n",
       "      <td>10.92</td>\n",
       "    </tr>\n",
       "    <tr>\n",
       "      <th>113</th>\n",
       "      <td>Barbados</td>\n",
       "      <td>10.93</td>\n",
       "    </tr>\n",
       "  </tbody>\n",
       "</table>\n",
       "</div>"
      ],
      "text/plain": [
       "                  country infant_mortality\n",
       "38                 Monaco             1.81\n",
       "30                Romania            10.16\n",
       "153                  Fiji             10.2\n",
       "69                 Brunei            10.48\n",
       "132               Grenada             10.5\n",
       "237             Mauritius            10.59\n",
       "124                Panama             10.7\n",
       "243            Seychelles            10.77\n",
       "102  United Arab Emirates            10.92\n",
       "113              Barbados            10.93"
      ]
     },
     "execution_count": 74,
     "metadata": {},
     "output_type": "execute_result"
    }
   ],
   "source": [
    " #create a pandas dataframe from the data\n",
    "df = pd.DataFrame(data)\n",
    "\n",
    "# clean up countries with missing infant_mortality rates\n",
    "df = df.replace('',np.NaN)\n",
    "\n",
    "# find the 10 lowest infant mortality rates\n",
    "df.dropna().sort(columns='infant_mortality').head(10)"
   ]
  },
  {
   "cell_type": "code",
   "execution_count": 76,
   "metadata": {
    "collapsed": false
   },
   "outputs": [
    {
     "name": "stdout",
     "output_type": "stream",
     "text": [
      "\u001b[H\u001b[2J"
     ]
    }
   ],
   "source": [
    "#10 cities with the largest population"
   ]
  },
  {
   "cell_type": "code",
   "execution_count": 114,
   "metadata": {
    "collapsed": false
   },
   "outputs": [],
   "source": [
    "data = {'city':[], 'country':[], 'year':[], 'population':[]}\n",
    "\n",
    "# extract city name, population, and year from xml\n",
    "for city in document.findall('country/city'):\n",
    "    country = city.attrib['country']\n",
    "    name = ''\n",
    "    population = 0\n",
    "    year = 0\n",
    "    for node in list(city):\n",
    "        if node.tag == 'name':\n",
    "            name = node.text\n",
    "        elif node.tag == 'population':\n",
    "            # note: if multiple population tags, the last is used\n",
    "            # population tags sorted by year, so last is most recent\n",
    "            population = int(node.text)\n",
    "            year = int(node.attrib['year'])\n",
    "    \n",
    "    # only add cities with known populations\n",
    "    if population != 0:\n",
    "        data['country'].append(country)\n",
    "        data['city'].append(name)\n",
    "        data['population'].append(population)\n",
    "        data['year'].append(year)\n"
   ]
  },
  {
   "cell_type": "code",
   "execution_count": 116,
   "metadata": {
    "collapsed": false
   },
   "outputs": [
    {
     "name": "stderr",
     "output_type": "stream",
     "text": [
      "//anaconda/lib/python3.5/site-packages/ipykernel/__main__.py:2: FutureWarning: sort(columns=....) is deprecated, use sort_values(by=.....)\n",
      "  from ipykernel import kernelapp as app\n"
     ]
    },
    {
     "data": {
      "text/html": [
       "<div>\n",
       "<table border=\"1\" class=\"dataframe\">\n",
       "  <thead>\n",
       "    <tr style=\"text-align: right;\">\n",
       "      <th></th>\n",
       "      <th>city</th>\n",
       "      <th>country</th>\n",
       "      <th>population</th>\n",
       "      <th>year</th>\n",
       "    </tr>\n",
       "  </thead>\n",
       "  <tbody>\n",
       "    <tr>\n",
       "      <th>165</th>\n",
       "      <td>Seoul</td>\n",
       "      <td>ROK</td>\n",
       "      <td>9708483</td>\n",
       "      <td>2010</td>\n",
       "    </tr>\n",
       "    <tr>\n",
       "      <th>154</th>\n",
       "      <td>Cairo</td>\n",
       "      <td>ET</td>\n",
       "      <td>8471859</td>\n",
       "      <td>2006</td>\n",
       "    </tr>\n",
       "    <tr>\n",
       "      <th>75</th>\n",
       "      <td>Bangkok</td>\n",
       "      <td>THA</td>\n",
       "      <td>7506700</td>\n",
       "      <td>1999</td>\n",
       "    </tr>\n",
       "    <tr>\n",
       "      <th>123</th>\n",
       "      <td>Hong Kong</td>\n",
       "      <td>HONX</td>\n",
       "      <td>7055071</td>\n",
       "      <td>2009</td>\n",
       "    </tr>\n",
       "    <tr>\n",
       "      <th>87</th>\n",
       "      <td>Ho Chi Minh City</td>\n",
       "      <td>VN</td>\n",
       "      <td>5968384</td>\n",
       "      <td>2009</td>\n",
       "    </tr>\n",
       "    <tr>\n",
       "      <th>201</th>\n",
       "      <td>Singapore</td>\n",
       "      <td>SGP</td>\n",
       "      <td>5076700</td>\n",
       "      <td>2010</td>\n",
       "    </tr>\n",
       "    <tr>\n",
       "      <th>153</th>\n",
       "      <td>Alexandria</td>\n",
       "      <td>ET</td>\n",
       "      <td>4123869</td>\n",
       "      <td>2006</td>\n",
       "    </tr>\n",
       "    <tr>\n",
       "      <th>205</th>\n",
       "      <td>New Taipei</td>\n",
       "      <td>RC</td>\n",
       "      <td>3939305</td>\n",
       "      <td>2012</td>\n",
       "    </tr>\n",
       "    <tr>\n",
       "      <th>166</th>\n",
       "      <td>Pusan</td>\n",
       "      <td>ROK</td>\n",
       "      <td>3403135</td>\n",
       "      <td>2010</td>\n",
       "    </tr>\n",
       "    <tr>\n",
       "      <th>102</th>\n",
       "      <td>Pyongyang</td>\n",
       "      <td>NOK</td>\n",
       "      <td>3255288</td>\n",
       "      <td>2008</td>\n",
       "    </tr>\n",
       "  </tbody>\n",
       "</table>\n",
       "</div>"
      ],
      "text/plain": [
       "                 city country  population  year\n",
       "165             Seoul     ROK     9708483  2010\n",
       "154             Cairo      ET     8471859  2006\n",
       "75            Bangkok     THA     7506700  1999\n",
       "123         Hong Kong    HONX     7055071  2009\n",
       "87   Ho Chi Minh City      VN     5968384  2009\n",
       "201         Singapore     SGP     5076700  2010\n",
       "153        Alexandria      ET     4123869  2006\n",
       "205        New Taipei      RC     3939305  2012\n",
       "166             Pusan     ROK     3403135  2010\n",
       "102         Pyongyang     NOK     3255288  2008"
      ]
     },
     "execution_count": 116,
     "metadata": {},
     "output_type": "execute_result"
    }
   ],
   "source": [
    "df = pd.DataFrame(data)\n",
    "df.sort(columns='population', ascending=False).head(10)"
   ]
  },
  {
   "cell_type": "code",
   "execution_count": 98,
   "metadata": {
    "collapsed": false
   },
   "outputs": [],
   "source": [
    "#Q3-10 ethnic groups with the largest overall populations (sum of best/latest estimates over all countries)"
   ]
  },
  {
   "cell_type": "code",
   "execution_count": 119,
   "metadata": {
    "collapsed": false
   },
   "outputs": [],
   "source": [
    "data = {'group':[], 'country':[], 'population':[]}\n",
    "\n",
    "# extract country, ethnic group, and population from xml\n",
    "for country in document.findall('country'):\n",
    "    name = ''\n",
    "    group = ''\n",
    "    population = 0\n",
    "    for node in list(country):\n",
    "        if node.tag == 'name':\n",
    "            name = node.text\n",
    "        elif node.tag == 'population':\n",
    "            # note: if multiple population tags, the last is used\n",
    "            # population tags sorted by year, so last is most recent\n",
    "            population = int(node.text)\n",
    "            year = int(node.attrib['year'])\n",
    "        elif node.tag == 'ethnicgroup':\n",
    "            percentage = float(node.attrib['percentage'])\n",
    "            group = node.text\n",
    "            \n",
    "            if group and percentage and population:\n",
    "            # only add groups with known populations\n",
    "                data['country'].append(name)\n",
    "                data['group'].append(group)\n",
    "                # calculate ethnic group population from percentage of overall population\n",
    "                data['population'].append(int(population * percentage / 100.))"
   ]
  },
  {
   "cell_type": "code",
   "execution_count": 120,
   "metadata": {
    "collapsed": false
   },
   "outputs": [
    {
     "name": "stderr",
     "output_type": "stream",
     "text": [
      "//anaconda/lib/python3.5/site-packages/ipykernel/__main__.py:7: FutureWarning: sort(columns=....) is deprecated, use sort_values(by=.....)\n"
     ]
    },
    {
     "data": {
      "text/html": [
       "<div>\n",
       "<table border=\"1\" class=\"dataframe\">\n",
       "  <thead>\n",
       "    <tr style=\"text-align: right;\">\n",
       "      <th></th>\n",
       "      <th>population</th>\n",
       "    </tr>\n",
       "    <tr>\n",
       "      <th>group</th>\n",
       "      <th></th>\n",
       "    </tr>\n",
       "  </thead>\n",
       "  <tbody>\n",
       "    <tr>\n",
       "      <th>Han Chinese</th>\n",
       "      <td>1245058800</td>\n",
       "    </tr>\n",
       "    <tr>\n",
       "      <th>Indo-Aryan</th>\n",
       "      <td>871815583</td>\n",
       "    </tr>\n",
       "    <tr>\n",
       "      <th>European</th>\n",
       "      <td>494872201</td>\n",
       "    </tr>\n",
       "    <tr>\n",
       "      <th>African</th>\n",
       "      <td>318325104</td>\n",
       "    </tr>\n",
       "    <tr>\n",
       "      <th>Dravidian</th>\n",
       "      <td>302713744</td>\n",
       "    </tr>\n",
       "    <tr>\n",
       "      <th>Mestizo</th>\n",
       "      <td>157734349</td>\n",
       "    </tr>\n",
       "    <tr>\n",
       "      <th>Bengali</th>\n",
       "      <td>146776916</td>\n",
       "    </tr>\n",
       "    <tr>\n",
       "      <th>Russian</th>\n",
       "      <td>131856989</td>\n",
       "    </tr>\n",
       "    <tr>\n",
       "      <th>Japanese</th>\n",
       "      <td>126534212</td>\n",
       "    </tr>\n",
       "    <tr>\n",
       "      <th>Malay</th>\n",
       "      <td>121993548</td>\n",
       "    </tr>\n",
       "  </tbody>\n",
       "</table>\n",
       "</div>"
      ],
      "text/plain": [
       "             population\n",
       "group                  \n",
       "Han Chinese  1245058800\n",
       "Indo-Aryan    871815583\n",
       "European      494872201\n",
       "African       318325104\n",
       "Dravidian     302713744\n",
       "Mestizo       157734349\n",
       "Bengali       146776916\n",
       "Russian       131856989\n",
       "Japanese      126534212\n",
       "Malay         121993548"
      ]
     },
     "execution_count": 120,
     "metadata": {},
     "output_type": "execute_result"
    }
   ],
   "source": [
    "# create a pandas dataframe from the data\n",
    "df = pd.DataFrame(data)\n",
    "\n",
    "total = df.groupby('group')[['population']].sum()\n",
    "\n",
    "# find the 10 largest ethnic groups, by population\n",
    "total.sort(columns='population', ascending=False).head(10)"
   ]
  },
  {
   "cell_type": "code",
   "execution_count": null,
   "metadata": {
    "collapsed": true
   },
   "outputs": [],
   "source": [
    "#name and country of a) longest river, b) largest lake and c) airport at highest elevation"
   ]
  },
  {
   "cell_type": "code",
   "execution_count": 122,
   "metadata": {
    "collapsed": false
   },
   "outputs": [
    {
     "data": {
      "text/html": [
       "<div>\n",
       "<table border=\"1\" class=\"dataframe\">\n",
       "  <thead>\n",
       "    <tr style=\"text-align: right;\">\n",
       "      <th></th>\n",
       "      <th>code</th>\n",
       "      <th>country</th>\n",
       "    </tr>\n",
       "  </thead>\n",
       "  <tbody>\n",
       "    <tr>\n",
       "      <th>0</th>\n",
       "      <td>AL</td>\n",
       "      <td>Albania</td>\n",
       "    </tr>\n",
       "    <tr>\n",
       "      <th>1</th>\n",
       "      <td>GR</td>\n",
       "      <td>Greece</td>\n",
       "    </tr>\n",
       "    <tr>\n",
       "      <th>2</th>\n",
       "      <td>MK</td>\n",
       "      <td>Macedonia</td>\n",
       "    </tr>\n",
       "    <tr>\n",
       "      <th>3</th>\n",
       "      <td>SRB</td>\n",
       "      <td>Serbia</td>\n",
       "    </tr>\n",
       "    <tr>\n",
       "      <th>4</th>\n",
       "      <td>MNE</td>\n",
       "      <td>Montenegro</td>\n",
       "    </tr>\n",
       "    <tr>\n",
       "      <th>5</th>\n",
       "      <td>KOS</td>\n",
       "      <td>Kosovo</td>\n",
       "    </tr>\n",
       "    <tr>\n",
       "      <th>6</th>\n",
       "      <td>AND</td>\n",
       "      <td>Andorra</td>\n",
       "    </tr>\n",
       "    <tr>\n",
       "      <th>7</th>\n",
       "      <td>F</td>\n",
       "      <td>France</td>\n",
       "    </tr>\n",
       "    <tr>\n",
       "      <th>8</th>\n",
       "      <td>E</td>\n",
       "      <td>Spain</td>\n",
       "    </tr>\n",
       "    <tr>\n",
       "      <th>9</th>\n",
       "      <td>A</td>\n",
       "      <td>Austria</td>\n",
       "    </tr>\n",
       "  </tbody>\n",
       "</table>\n",
       "</div>"
      ],
      "text/plain": [
       "  code     country\n",
       "0   AL     Albania\n",
       "1   GR      Greece\n",
       "2   MK   Macedonia\n",
       "3  SRB      Serbia\n",
       "4  MNE  Montenegro\n",
       "5  KOS      Kosovo\n",
       "6  AND     Andorra\n",
       "7    F      France\n",
       "8    E       Spain\n",
       "9    A     Austria"
      ]
     },
     "execution_count": 122,
     "metadata": {},
     "output_type": "execute_result"
    }
   ],
   "source": [
    "# create a lookup table for country codes\n",
    "car_codes = {'country':[], 'code':[]}\n",
    "\n",
    "# extract country info from xml\n",
    "for country in document.findall('country'):\n",
    "    name = ''\n",
    "    code = ''\n",
    "    for node in list(country):\n",
    "        if node.tag == 'name':           \n",
    "            car_codes['country'].append(node.text)\n",
    "            car_codes['code'].append(country.attrib['car_code'])\n",
    "\n",
    "# create a dataframe for the country codes\n",
    "\n",
    "countries = pd.DataFrame(car_codes)\n",
    "countries.head(10)"
   ]
  },
  {
   "cell_type": "code",
   "execution_count": 123,
   "metadata": {
    "collapsed": false
   },
   "outputs": [
    {
     "data": {
      "text/html": [
       "<div>\n",
       "<table border=\"1\" class=\"dataframe\">\n",
       "  <thead>\n",
       "    <tr style=\"text-align: right;\">\n",
       "      <th></th>\n",
       "      <th>car_code</th>\n",
       "      <th>length</th>\n",
       "      <th>name</th>\n",
       "    </tr>\n",
       "  </thead>\n",
       "  <tbody>\n",
       "    <tr>\n",
       "      <th>0</th>\n",
       "      <td>IS</td>\n",
       "      <td>230.0</td>\n",
       "      <td>Thjorsa</td>\n",
       "    </tr>\n",
       "    <tr>\n",
       "      <th>1</th>\n",
       "      <td>IS</td>\n",
       "      <td>206.0</td>\n",
       "      <td>Joekulsa a Fjoellum</td>\n",
       "    </tr>\n",
       "    <tr>\n",
       "      <th>2</th>\n",
       "      <td>N</td>\n",
       "      <td>604.0</td>\n",
       "      <td>Glomma</td>\n",
       "    </tr>\n",
       "    <tr>\n",
       "      <th>3</th>\n",
       "      <td>N</td>\n",
       "      <td>322.0</td>\n",
       "      <td>Lagen</td>\n",
       "    </tr>\n",
       "    <tr>\n",
       "      <th>4</th>\n",
       "      <td>S</td>\n",
       "      <td>93.0</td>\n",
       "      <td>Goetaaelv</td>\n",
       "    </tr>\n",
       "    <tr>\n",
       "      <th>5</th>\n",
       "      <td>N</td>\n",
       "      <td>460.0</td>\n",
       "      <td>Klaraelv</td>\n",
       "    </tr>\n",
       "    <tr>\n",
       "      <th>6</th>\n",
       "      <td>S</td>\n",
       "      <td>460.0</td>\n",
       "      <td>Klaraelv</td>\n",
       "    </tr>\n",
       "    <tr>\n",
       "      <th>7</th>\n",
       "      <td>S</td>\n",
       "      <td>470.0</td>\n",
       "      <td>Umeaelv</td>\n",
       "    </tr>\n",
       "    <tr>\n",
       "      <th>8</th>\n",
       "      <td>S</td>\n",
       "      <td>520.0</td>\n",
       "      <td>Dalaelv</td>\n",
       "    </tr>\n",
       "    <tr>\n",
       "      <th>9</th>\n",
       "      <td>S</td>\n",
       "      <td>320.0</td>\n",
       "      <td>Vaesterdalaelv</td>\n",
       "    </tr>\n",
       "  </tbody>\n",
       "</table>\n",
       "</div>"
      ],
      "text/plain": [
       "  car_code  length                 name\n",
       "0       IS   230.0              Thjorsa\n",
       "1       IS   206.0  Joekulsa a Fjoellum\n",
       "2        N   604.0               Glomma\n",
       "3        N   322.0                Lagen\n",
       "4        S    93.0            Goetaaelv\n",
       "5        N   460.0             Klaraelv\n",
       "6        S   460.0             Klaraelv\n",
       "7        S   470.0              Umeaelv\n",
       "8        S   520.0              Dalaelv\n",
       "9        S   320.0       Vaesterdalaelv"
      ]
     },
     "execution_count": 123,
     "metadata": {},
     "output_type": "execute_result"
    }
   ],
   "source": [
    "# create a table for river information\n",
    "river_data = {'car_code':[], 'name':[], 'length':[]}\n",
    "\n",
    "# extract river info from xml\n",
    "for river in document.findall('river'):\n",
    "    \n",
    "    code = river.attrib['country'] # country code, not country name\n",
    "    name = ''\n",
    "    length = 0\n",
    "    for node in list(river):\n",
    "        if node.tag == 'name':           \n",
    "            name = node.text\n",
    "        elif node.tag == 'length':\n",
    "            length = float(node.text)\n",
    "            \n",
    "    if name and code and length:\n",
    "        # only add rivers with known lengths\n",
    "        codes = code.split(' ') # some rivers cross multiple countries\n",
    "        for c in codes:\n",
    "            river_data['car_code'].append(c)\n",
    "            river_data['name'].append(name) # river name\n",
    "            river_data['length'].append(length)\n",
    "\n",
    "# create a dataframe for the rivers\n",
    "rivers = pd.DataFrame(river_data)\n",
    "rivers.head(10)"
   ]
  },
  {
   "cell_type": "code",
   "execution_count": 124,
   "metadata": {
    "collapsed": false
   },
   "outputs": [
    {
     "data": {
      "text/html": [
       "<div>\n",
       "<table border=\"1\" class=\"dataframe\">\n",
       "  <thead>\n",
       "    <tr style=\"text-align: right;\">\n",
       "      <th></th>\n",
       "      <th>area</th>\n",
       "      <th>car_code</th>\n",
       "      <th>name</th>\n",
       "    </tr>\n",
       "  </thead>\n",
       "  <tbody>\n",
       "    <tr>\n",
       "      <th>0</th>\n",
       "      <td>1040.0</td>\n",
       "      <td>SF</td>\n",
       "      <td>Inari</td>\n",
       "    </tr>\n",
       "    <tr>\n",
       "      <th>1</th>\n",
       "      <td>928.0</td>\n",
       "      <td>SF</td>\n",
       "      <td>Oulujaervi</td>\n",
       "    </tr>\n",
       "    <tr>\n",
       "      <th>2</th>\n",
       "      <td>472.0</td>\n",
       "      <td>SF</td>\n",
       "      <td>Kallavesi</td>\n",
       "    </tr>\n",
       "    <tr>\n",
       "      <th>3</th>\n",
       "      <td>4370.0</td>\n",
       "      <td>SF</td>\n",
       "      <td>Saimaa</td>\n",
       "    </tr>\n",
       "    <tr>\n",
       "      <th>4</th>\n",
       "      <td>1118.0</td>\n",
       "      <td>SF</td>\n",
       "      <td>Paeijaenne</td>\n",
       "    </tr>\n",
       "    <tr>\n",
       "      <th>5</th>\n",
       "      <td>368.0</td>\n",
       "      <td>N</td>\n",
       "      <td>Mjoesa-See</td>\n",
       "    </tr>\n",
       "    <tr>\n",
       "      <th>6</th>\n",
       "      <td>173.0</td>\n",
       "      <td>S</td>\n",
       "      <td>Storuman</td>\n",
       "    </tr>\n",
       "    <tr>\n",
       "      <th>7</th>\n",
       "      <td>290.0</td>\n",
       "      <td>S</td>\n",
       "      <td>Siljan</td>\n",
       "    </tr>\n",
       "    <tr>\n",
       "      <th>8</th>\n",
       "      <td>1140.0</td>\n",
       "      <td>S</td>\n",
       "      <td>Maelaren</td>\n",
       "    </tr>\n",
       "    <tr>\n",
       "      <th>9</th>\n",
       "      <td>5648.0</td>\n",
       "      <td>S</td>\n",
       "      <td>Vaenern</td>\n",
       "    </tr>\n",
       "  </tbody>\n",
       "</table>\n",
       "</div>"
      ],
      "text/plain": [
       "     area car_code        name\n",
       "0  1040.0       SF       Inari\n",
       "1   928.0       SF  Oulujaervi\n",
       "2   472.0       SF   Kallavesi\n",
       "3  4370.0       SF      Saimaa\n",
       "4  1118.0       SF  Paeijaenne\n",
       "5   368.0        N  Mjoesa-See\n",
       "6   173.0        S    Storuman\n",
       "7   290.0        S      Siljan\n",
       "8  1140.0        S    Maelaren\n",
       "9  5648.0        S     Vaenern"
      ]
     },
     "execution_count": 124,
     "metadata": {},
     "output_type": "execute_result"
    }
   ],
   "source": [
    "# create a table for lake information\n",
    "lake_data = {'car_code':[], 'name':[], 'area':[]}\n",
    "\n",
    "# extract lake info from xml\n",
    "for river in document.findall('lake'):\n",
    "   \n",
    "    code = river.attrib['country'] # country code, not country name\n",
    "    name = ''\n",
    "    area = 0\n",
    "    for node in list(river):\n",
    "        if node.tag == 'name':           \n",
    "            name = node.text\n",
    "        elif node.tag == 'area':\n",
    "            area = float(node.text)\n",
    "            \n",
    "    if name and code and area:\n",
    "        # only add lakes with known areas\n",
    "        codes = code.split(' ') # some lakes cross multiple countries\n",
    "        for c in codes:\n",
    "            lake_data['car_code'].append(c)\n",
    "            lake_data['name'].append(name) # lake name\n",
    "            lake_data['area'].append(area)\n",
    "\n",
    "# create a dataframe for the lakes\n",
    "lakes = pd.DataFrame(lake_data)\n",
    "lakes.head(10)"
   ]
  },
  {
   "cell_type": "code",
   "execution_count": 125,
   "metadata": {
    "collapsed": false
   },
   "outputs": [
    {
     "data": {
      "text/html": [
       "<div>\n",
       "<table border=\"1\" class=\"dataframe\">\n",
       "  <thead>\n",
       "    <tr style=\"text-align: right;\">\n",
       "      <th></th>\n",
       "      <th>car_code</th>\n",
       "      <th>elevation</th>\n",
       "      <th>name</th>\n",
       "    </tr>\n",
       "  </thead>\n",
       "  <tbody>\n",
       "    <tr>\n",
       "      <th>0</th>\n",
       "      <td>AFG</td>\n",
       "      <td>977.0</td>\n",
       "      <td>Herat</td>\n",
       "    </tr>\n",
       "    <tr>\n",
       "      <th>1</th>\n",
       "      <td>AFG</td>\n",
       "      <td>1792.0</td>\n",
       "      <td>Kabul Intl</td>\n",
       "    </tr>\n",
       "    <tr>\n",
       "      <th>2</th>\n",
       "      <td>AL</td>\n",
       "      <td>38.0</td>\n",
       "      <td>Tirana Rinas</td>\n",
       "    </tr>\n",
       "    <tr>\n",
       "      <th>3</th>\n",
       "      <td>DZ</td>\n",
       "      <td>811.0</td>\n",
       "      <td>Cheikh Larbi Tebessi</td>\n",
       "    </tr>\n",
       "    <tr>\n",
       "      <th>4</th>\n",
       "      <td>DZ</td>\n",
       "      <td>822.0</td>\n",
       "      <td>Batna Airport</td>\n",
       "    </tr>\n",
       "    <tr>\n",
       "      <th>5</th>\n",
       "      <td>DZ</td>\n",
       "      <td>6.0</td>\n",
       "      <td>Soummam</td>\n",
       "    </tr>\n",
       "    <tr>\n",
       "      <th>6</th>\n",
       "      <td>DZ</td>\n",
       "      <td>1377.0</td>\n",
       "      <td>Tamanrasset</td>\n",
       "    </tr>\n",
       "    <tr>\n",
       "      <th>7</th>\n",
       "      <td>DZ</td>\n",
       "      <td>88.0</td>\n",
       "      <td>Biskra</td>\n",
       "    </tr>\n",
       "    <tr>\n",
       "      <th>8</th>\n",
       "      <td>DZ</td>\n",
       "      <td>691.0</td>\n",
       "      <td>Mohamed Boudiaf Intl</td>\n",
       "    </tr>\n",
       "    <tr>\n",
       "      <th>9</th>\n",
       "      <td>DZ</td>\n",
       "      <td>1024.0</td>\n",
       "      <td>Ain Arnat Airport</td>\n",
       "    </tr>\n",
       "  </tbody>\n",
       "</table>\n",
       "</div>"
      ],
      "text/plain": [
       "  car_code  elevation                  name\n",
       "0      AFG      977.0                 Herat\n",
       "1      AFG     1792.0            Kabul Intl\n",
       "2       AL       38.0          Tirana Rinas\n",
       "3       DZ      811.0  Cheikh Larbi Tebessi\n",
       "4       DZ      822.0         Batna Airport\n",
       "5       DZ        6.0               Soummam\n",
       "6       DZ     1377.0           Tamanrasset\n",
       "7       DZ       88.0                Biskra\n",
       "8       DZ      691.0  Mohamed Boudiaf Intl\n",
       "9       DZ     1024.0     Ain Arnat Airport"
      ]
     },
     "execution_count": 125,
     "metadata": {},
     "output_type": "execute_result"
    }
   ],
   "source": [
    "# create a table for airport information\n",
    "airport_data = {'car_code':[], 'name':[], 'elevation':[]}\n",
    "\n",
    "# extract airport info from xml\n",
    "for airport in document.findall('airport'):\n",
    "   \n",
    "    code = airport.attrib['country'] # country code, not country name\n",
    "    name = ''\n",
    "    elev = 0\n",
    "    for node in list(airport):\n",
    "        if node.tag == 'name':           \n",
    "            name = node.text\n",
    "        elif node.tag == 'elevation':\n",
    "            if node.text is not None:\n",
    "                elev = float(node.text)\n",
    "            \n",
    "    if name and code and elev:\n",
    "        # only add lakes with known areas\n",
    "        #codes = code.split(' ') # some lakes cross multiple countries\n",
    "        #for c in codes:\n",
    "        airport_data['car_code'].append(code)\n",
    "        airport_data['name'].append(name) # airport name\n",
    "        airport_data['elevation'].append(elev)\n",
    "\n",
    "# create a dataframe for the lakes\n",
    "airports = pd.DataFrame(airport_data)\n",
    "airports.head(10)"
   ]
  },
  {
   "cell_type": "code",
   "execution_count": 135,
   "metadata": {
    "collapsed": false
   },
   "outputs": [
    {
     "name": "stdout",
     "output_type": "stream",
     "text": [
      "Longest River:\n"
     ]
    },
    {
     "name": "stderr",
     "output_type": "stream",
     "text": [
      "//anaconda/lib/python3.5/site-packages/ipykernel/__main__.py:6: FutureWarning: sort(columns=....) is deprecated, use sort_values(by=.....)\n"
     ]
    },
    {
     "data": {
      "text/html": [
       "<div>\n",
       "<table border=\"1\" class=\"dataframe\">\n",
       "  <thead>\n",
       "    <tr style=\"text-align: right;\">\n",
       "      <th></th>\n",
       "      <th>name</th>\n",
       "      <th>country</th>\n",
       "      <th>length</th>\n",
       "    </tr>\n",
       "  </thead>\n",
       "  <tbody>\n",
       "    <tr>\n",
       "      <th>298</th>\n",
       "      <td>Amazonas</td>\n",
       "      <td>Colombia</td>\n",
       "      <td>6448.0</td>\n",
       "    </tr>\n",
       "    <tr>\n",
       "      <th>299</th>\n",
       "      <td>Amazonas</td>\n",
       "      <td>Brazil</td>\n",
       "      <td>6448.0</td>\n",
       "    </tr>\n",
       "    <tr>\n",
       "      <th>300</th>\n",
       "      <td>Amazonas</td>\n",
       "      <td>Peru</td>\n",
       "      <td>6448.0</td>\n",
       "    </tr>\n",
       "  </tbody>\n",
       "</table>\n",
       "</div>"
      ],
      "text/plain": [
       "         name   country  length\n",
       "298  Amazonas  Colombia  6448.0\n",
       "299  Amazonas    Brazil  6448.0\n",
       "300  Amazonas      Peru  6448.0"
      ]
     },
     "execution_count": 135,
     "metadata": {},
     "output_type": "execute_result"
    }
   ],
   "source": [
    "# merge the river and country tables\n",
    "df = pd.merge(rivers, countries, how='left', left_on='car_code', right_on='code')\n",
    "\n",
    "# find the longest river\n",
    "grouped = df.groupby(['name'])[['length']].max()\n",
    "longest = grouped.sort('length', ascending=False).ix[0]\n",
    "\n",
    "# display info on longest river\n",
    "print('Longest River:')\n",
    "df[df.name == longest.name][['name','country','length']]"
   ]
  },
  {
   "cell_type": "code",
   "execution_count": 131,
   "metadata": {
    "collapsed": false,
    "scrolled": true
   },
   "outputs": [
    {
     "name": "stdout",
     "output_type": "stream",
     "text": [
      "Largest Lake:\n",
      "\n"
     ]
    },
    {
     "name": "stderr",
     "output_type": "stream",
     "text": [
      "//anaconda/lib/python3.5/site-packages/ipykernel/__main__.py:6: FutureWarning: sort(columns=....) is deprecated, use sort_values(by=.....)\n"
     ]
    },
    {
     "data": {
      "text/html": [
       "<div>\n",
       "<table border=\"1\" class=\"dataframe\">\n",
       "  <thead>\n",
       "    <tr style=\"text-align: right;\">\n",
       "      <th></th>\n",
       "      <th>name</th>\n",
       "      <th>country</th>\n",
       "      <th>area</th>\n",
       "    </tr>\n",
       "  </thead>\n",
       "  <tbody>\n",
       "    <tr>\n",
       "      <th>68</th>\n",
       "      <td>Caspian Sea</td>\n",
       "      <td>Russia</td>\n",
       "      <td>386400.0</td>\n",
       "    </tr>\n",
       "    <tr>\n",
       "      <th>69</th>\n",
       "      <td>Caspian Sea</td>\n",
       "      <td>Azerbaijan</td>\n",
       "      <td>386400.0</td>\n",
       "    </tr>\n",
       "    <tr>\n",
       "      <th>70</th>\n",
       "      <td>Caspian Sea</td>\n",
       "      <td>Kazakhstan</td>\n",
       "      <td>386400.0</td>\n",
       "    </tr>\n",
       "    <tr>\n",
       "      <th>71</th>\n",
       "      <td>Caspian Sea</td>\n",
       "      <td>Iran</td>\n",
       "      <td>386400.0</td>\n",
       "    </tr>\n",
       "    <tr>\n",
       "      <th>72</th>\n",
       "      <td>Caspian Sea</td>\n",
       "      <td>Turkmenistan</td>\n",
       "      <td>386400.0</td>\n",
       "    </tr>\n",
       "  </tbody>\n",
       "</table>\n",
       "</div>"
      ],
      "text/plain": [
       "           name       country      area\n",
       "68  Caspian Sea        Russia  386400.0\n",
       "69  Caspian Sea    Azerbaijan  386400.0\n",
       "70  Caspian Sea    Kazakhstan  386400.0\n",
       "71  Caspian Sea          Iran  386400.0\n",
       "72  Caspian Sea  Turkmenistan  386400.0"
      ]
     },
     "execution_count": 131,
     "metadata": {},
     "output_type": "execute_result"
    }
   ],
   "source": [
    "# merge the lake and country tables\n",
    "df = pd.merge(lakes, countries, how='left', left_on='car_code', right_on='code')\n",
    "\n",
    "# find the longest river\n",
    "grouped = df.groupby(['name'])[['area']].max()\n",
    "largest = grouped.sort('area', ascending=False).ix[0].name\n",
    "\n",
    "# display info on longest river\n",
    "print ('Largest Lake:\\n')\n",
    "df[df.name == largest][['name','country','area']]"
   ]
  },
  {
   "cell_type": "code",
   "execution_count": 133,
   "metadata": {
    "collapsed": false
   },
   "outputs": [
    {
     "name": "stdout",
     "output_type": "stream",
     "text": [
      "Highest Airport:\n",
      "El Alto Intl in Bolivia, Elevation: 4063 m\n"
     ]
    },
    {
     "name": "stderr",
     "output_type": "stream",
     "text": [
      "//anaconda/lib/python3.5/site-packages/ipykernel/__main__.py:6: FutureWarning: sort(columns=....) is deprecated, use sort_values(by=.....)\n"
     ]
    }
   ],
   "source": [
    "# merge the airport and country tables\n",
    "df = pd.merge(airports, countries, how='left', left_on='car_code', right_on='code')\n",
    "\n",
    "# find the highest airport\n",
    "grouped = df.groupby(['name'])[['elevation']].max()\n",
    "highest = grouped.sort('elevation', ascending=False).iloc[0].name\n",
    "\n",
    "# display info on highest airport\n",
    "airport = df[df.name == highest].iloc[0]\n",
    "airport\n",
    "\n",
    "print ('Highest Airport:')\n",
    "print( '%s in %s, Elevation: %d m' % (airport['name'], airport.country, airport.elevation))"
   ]
  },
  {
   "cell_type": "code",
   "execution_count": null,
   "metadata": {
    "collapsed": true
   },
   "outputs": [],
   "source": []
  }
 ],
 "metadata": {
  "anaconda-cloud": {},
  "kernelspec": {
   "display_name": "Python [conda root]",
   "language": "python",
   "name": "conda-root-py"
  },
  "language_info": {
   "codemirror_mode": {
    "name": "ipython",
    "version": 3
   },
   "file_extension": ".py",
   "mimetype": "text/x-python",
   "name": "python",
   "nbconvert_exporter": "python",
   "pygments_lexer": "ipython3",
   "version": "3.5.2"
  }
 },
 "nbformat": 4,
 "nbformat_minor": 0
}
